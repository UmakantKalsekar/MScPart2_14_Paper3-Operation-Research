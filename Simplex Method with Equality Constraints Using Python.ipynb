{
 "cells": [
  {
   "cell_type": "markdown",
   "metadata": {},
   "source": [
    "# Simplex Method with Equality Constraints Using Python"
   ]
  },
  {
   "cell_type": "code",
   "execution_count": 1,
   "metadata": {
    "id": "JbzILcX0k5lS"
   },
   "outputs": [],
   "source": [
    "from scipy.optimize import linprog\n",
    "#Max z=x+2y\n",
    "#subject to\n",
    "#2x+y<=20\n",
    "#-4x+5y<=10\n",
    "#-x+2y>=-2\n",
    "#-x+5y=15\n",
    "#x,y>=0"
   ]
  },
  {
   "cell_type": "code",
   "execution_count": 2,
   "metadata": {
    "id": "pKg_L4QDlA4a"
   },
   "outputs": [],
   "source": [
    "obj = [-1, -2]"
   ]
  },
  {
   "cell_type": "code",
   "execution_count": 3,
   "metadata": {
    "id": "Hw-8-tgjlC0c"
   },
   "outputs": [],
   "source": [
    "lhs_ineq = [[ 2, 1], # Red constraint left side\n",
    "... [-4, 5], # Blue constraint left side\n",
    "... [ 1, -2]] # Yellow constraint left side"
   ]
  },
  {
   "cell_type": "code",
   "execution_count": 4,
   "metadata": {
    "id": "zi26-VrZlFEo"
   },
   "outputs": [],
   "source": [
    "rhs_ineq = [20,  # Red constraint right side\n",
    "...             10,  # Blue constraint right side\n",
    "...              2]  # Yellow constraint right side"
   ]
  },
  {
   "cell_type": "code",
   "execution_count": 5,
   "metadata": {
    "id": "tcanGMeSlHzt"
   },
   "outputs": [],
   "source": [
    "lhs_eq = [[-1, 5]] # Green constraint left side"
   ]
  },
  {
   "cell_type": "code",
   "execution_count": 6,
   "metadata": {
    "id": "La8GvOpHlR95"
   },
   "outputs": [],
   "source": [
    "rhs_eq = [15] # Green constraint right side"
   ]
  },
  {
   "cell_type": "code",
   "execution_count": 7,
   "metadata": {
    "id": "PWWeD909lQQd"
   },
   "outputs": [],
   "source": [
    "bnd = [(0, float(\"inf\")),  # Bounds of x\n",
    "...        (0, float(\"inf\"))]  # Bounds of y"
   ]
  },
  {
   "cell_type": "code",
   "execution_count": 8,
   "metadata": {
    "id": "Vtts6n03lUtE"
   },
   "outputs": [],
   "source": [
    "opt = linprog(c=obj, A_ub=lhs_ineq, b_ub=rhs_ineq,\n",
    "...               A_eq=lhs_eq, b_eq=rhs_eq, bounds=bnd,\n",
    "...               method=\"revised simplex\")"
   ]
  },
  {
   "cell_type": "code",
   "execution_count": 9,
   "metadata": {
    "colab": {
     "base_uri": "https://localhost:8080/"
    },
    "id": "JqfNt4KKlVLy",
    "outputId": "5fc5f151-7301-46b8-b49d-01c5b4a399f6"
   },
   "outputs": [
    {
     "data": {
      "text/plain": [
       "     con: array([0.])\n",
       "     fun: -16.818181818181817\n",
       " message: 'Optimization terminated successfully.'\n",
       "     nit: 3\n",
       "   slack: array([ 0.        , 18.18181818,  3.36363636])\n",
       "  status: 0\n",
       " success: True\n",
       "       x: array([7.72727273, 4.54545455])"
      ]
     },
     "execution_count": 9,
     "metadata": {},
     "output_type": "execute_result"
    }
   ],
   "source": [
    "opt"
   ]
  },
  {
   "cell_type": "code",
   "execution_count": null,
   "metadata": {},
   "outputs": [],
   "source": []
  }
 ],
 "metadata": {
  "colab": {
   "authorship_tag": "ABX9TyPtYbtG3ASo05c5BP+Tdpwe",
   "name": "equalitysimplex.ipynb",
   "provenance": []
  },
  "kernelspec": {
   "display_name": "Python 3",
   "language": "python",
   "name": "python3"
  },
  "language_info": {
   "codemirror_mode": {
    "name": "ipython",
    "version": 3
   },
   "file_extension": ".py",
   "mimetype": "text/x-python",
   "name": "python",
   "nbconvert_exporter": "python",
   "pygments_lexer": "ipython3",
   "version": "3.8.3"
  }
 },
 "nbformat": 4,
 "nbformat_minor": 1
}
