{
 "cells": [
  {
   "cell_type": "markdown",
   "metadata": {},
   "source": [
    "# INFEASIBILITY IN SIMPLEX METHOD"
   ]
  },
  {
   "cell_type": "code",
   "execution_count": 1,
   "metadata": {
    "id": "j_4dhVtFm-Vh"
   },
   "outputs": [],
   "source": [
    "from scipy.optimize import linprog\n",
    "# Max z= 200x - 300y\n",
    "# subject to\n",
    "# 2x+3y>=1200\n",
    "# x+y<=400\n",
    "# 2x+3/2y>=900\n",
    "# x,y>=0"
   ]
  },
  {
   "cell_type": "code",
   "execution_count": 2,
   "metadata": {
    "id": "thOpr1bUnKSv"
   },
   "outputs": [],
   "source": [
    "obj = [-200, 300]"
   ]
  },
  {
   "cell_type": "code",
   "execution_count": 3,
   "metadata": {
    "id": "QgaHZb1ynNe0"
   },
   "outputs": [],
   "source": [
    "lhs_ineq = [[ -2, -3], # Red constraint left side\n",
    "... [1, 1], # Blue constraint left side\n",
    "... [ -2, -1.5]] # Yellow constraint left side"
   ]
  },
  {
   "cell_type": "code",
   "execution_count": 4,
   "metadata": {
    "id": "in73v5krnQPT"
   },
   "outputs": [],
   "source": [
    "rhs_ineq = [-1200, # Red constraint right side\n",
    "... 400, # Blue constraint right side\n",
    "... -900] # Yellow constraint right side"
   ]
  },
  {
   "cell_type": "code",
   "execution_count": 5,
   "metadata": {
    "id": "stZG2hewnTmt"
   },
   "outputs": [],
   "source": [
    "bnd = [(0, float(\"inf\")), # Bounds of x\n",
    "... (0, float(\"inf\"))] # Bounds of y"
   ]
  },
  {
   "cell_type": "code",
   "execution_count": 6,
   "metadata": {
    "id": "fuj4XQz3nWXP"
   },
   "outputs": [],
   "source": [
    "opt = linprog(c=obj, A_ub=lhs_ineq, b_ub=rhs_ineq,\n",
    "... bounds=bnd,\n",
    "... method=\"revised simplex\")"
   ]
  },
  {
   "cell_type": "code",
   "execution_count": 7,
   "metadata": {
    "colab": {
     "base_uri": "https://localhost:8080/"
    },
    "id": "so-pipR6nafO",
    "outputId": "7e49e6cf-245c-4510-c902-e537994e27f7"
   },
   "outputs": [
    {
     "data": {
      "text/plain": [
       "     con: array([], dtype=float64)\n",
       "     fun: 120000.0\n",
       " message: 'The problem appears infeasible, as the phase one auxiliary problem terminated successfully with a residual of 3.0e+02, greater than the tolerance 1e-12 required for the solution to be considered feasible. Consider increasing the tolerance to be greater than 3.0e+02. If this tolerance is unnaceptably large, the problem is likely infeasible.'\n",
       "     nit: 1\n",
       "   slack: array([   0.,    0., -300.])\n",
       "  status: 2\n",
       " success: False\n",
       "       x: array([  0., 400.])"
      ]
     },
     "execution_count": 7,
     "metadata": {},
     "output_type": "execute_result"
    }
   ],
   "source": [
    "opt"
   ]
  },
  {
   "cell_type": "code",
   "execution_count": null,
   "metadata": {},
   "outputs": [],
   "source": []
  }
 ],
 "metadata": {
  "colab": {
   "authorship_tag": "ABX9TyNDmRYWLXZdn9iJWDbXoIdn",
   "name": "infeasiblesimplex.ipynb",
   "provenance": []
  },
  "kernelspec": {
   "display_name": "Python 3",
   "language": "python",
   "name": "python3"
  },
  "language_info": {
   "codemirror_mode": {
    "name": "ipython",
    "version": 3
   },
   "file_extension": ".py",
   "mimetype": "text/x-python",
   "name": "python",
   "nbconvert_exporter": "python",
   "pygments_lexer": "ipython3",
   "version": "3.8.3"
  }
 },
 "nbformat": 4,
 "nbformat_minor": 1
}
