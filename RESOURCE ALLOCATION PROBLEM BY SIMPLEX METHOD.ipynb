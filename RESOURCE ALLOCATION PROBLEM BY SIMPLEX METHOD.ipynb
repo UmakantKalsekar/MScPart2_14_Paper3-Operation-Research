{
 "cells": [
  {
   "cell_type": "markdown",
   "metadata": {},
   "source": [
    "# RESOURCE ALLOCATION PROBLEM BY SIMPLEX METHOD"
   ]
  },
  {
   "cell_type": "code",
   "execution_count": 1,
   "metadata": {
    "id": "rh9uxQbZmbmf"
   },
   "outputs": [],
   "source": [
    "from scipy.optimize import linprog\n",
    "# Max z= 20x1 + 12x2 +40x3 + 25x4 .............(profit)\n",
    "# subjected to:\n",
    "# x1 + x2 + x3 + x4 <= 50 -------------(manpower)\n",
    "# 3x1 + 2x2 + x3 <= 100 -------------(material A)\n",
    "# x2 + 2x3 <= 90 -------------(material B)\n",
    "# x1, x2, x3, x4 >= 0"
   ]
  },
  {
   "cell_type": "code",
   "execution_count": 2,
   "metadata": {
    "id": "9k2pwybemntp"
   },
   "outputs": [],
   "source": [
    "obj = [-20, -12, -40, -25] #profit objective function"
   ]
  },
  {
   "cell_type": "code",
   "execution_count": 3,
   "metadata": {
    "id": "YUBL2E4cmsCd"
   },
   "outputs": [],
   "source": [
    "lhs_ineq = [[1, 1, 1, 1], # Manpower\n",
    "... [3, 2, 1, 0], # Material A\n",
    "... [0, 1, 2, 3]] # Material B"
   ]
  },
  {
   "cell_type": "code",
   "execution_count": 4,
   "metadata": {
    "id": "BJ-BzGkgmvnX"
   },
   "outputs": [],
   "source": [
    "rhs_ineq = [ 50, # Manpower\n",
    "... 100, # Material A\n",
    "... 90] # Material B"
   ]
  },
  {
   "cell_type": "code",
   "execution_count": 5,
   "metadata": {
    "id": "nmrlQevTmyKt"
   },
   "outputs": [],
   "source": [
    "opt = linprog(c=obj, A_ub=lhs_ineq, b_ub=rhs_ineq,\n",
    "... method=\"revised simplex\")"
   ]
  },
  {
   "cell_type": "code",
   "execution_count": 6,
   "metadata": {
    "colab": {
     "base_uri": "https://localhost:8080/"
    },
    "id": "KVfH5lyOm0mZ",
    "outputId": "bf39e590-042c-40e9-e8b7-fa062d9f866a"
   },
   "outputs": [
    {
     "data": {
      "text/plain": [
       "     con: array([], dtype=float64)\n",
       "     fun: -1900.0\n",
       " message: 'Optimization terminated successfully.'\n",
       "     nit: 2\n",
       "   slack: array([ 0., 40.,  0.])\n",
       "  status: 0\n",
       " success: True\n",
       "       x: array([ 5.,  0., 45.,  0.])"
      ]
     },
     "execution_count": 6,
     "metadata": {},
     "output_type": "execute_result"
    }
   ],
   "source": [
    "opt"
   ]
  },
  {
   "cell_type": "code",
   "execution_count": null,
   "metadata": {},
   "outputs": [],
   "source": []
  }
 ],
 "metadata": {
  "colab": {
   "authorship_tag": "ABX9TyOav5ly0ajEPrt9tS2eN02W",
   "name": "resourcesimplex.ipynb",
   "provenance": []
  },
  "kernelspec": {
   "display_name": "Python 3",
   "language": "python",
   "name": "python3"
  },
  "language_info": {
   "codemirror_mode": {
    "name": "ipython",
    "version": 3
   },
   "file_extension": ".py",
   "mimetype": "text/x-python",
   "name": "python",
   "nbconvert_exporter": "python",
   "pygments_lexer": "ipython3",
   "version": "3.8.3"
  }
 },
 "nbformat": 4,
 "nbformat_minor": 1
}
