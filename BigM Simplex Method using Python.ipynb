{
 "cells": [
  {
   "cell_type": "markdown",
   "metadata": {},
   "source": [
    "# BigM Simplex Method using Python"
   ]
  },
  {
   "cell_type": "code",
   "execution_count": 1,
   "metadata": {
    "id": "WAZMEQqwlsDS"
   },
   "outputs": [],
   "source": [
    "from scipy.optimize import linprog\n",
    "#Min z= 4x1 + x2\n",
    "#subjected to:\n",
    "#3x1 + 4x2 >= 20\n",
    "#x1 + 5x2 >= 15\n",
    "#x1, x2 >= 0"
   ]
  },
  {
   "cell_type": "code",
   "execution_count": 2,
   "metadata": {
    "id": "dEomppXul3xn"
   },
   "outputs": [],
   "source": [
    "obj = [4, 1]"
   ]
  },
  {
   "cell_type": "code",
   "execution_count": 3,
   "metadata": {
    "id": "BxdA0t-Pl6ft"
   },
   "outputs": [],
   "source": [
    "lhs_ineq = [[ -3, -4], # left side of first constraint\n",
    "... [-1, -5]] # right side of first constraint"
   ]
  },
  {
   "cell_type": "code",
   "execution_count": 4,
   "metadata": {
    "id": "83Np9c5Nl8u_"
   },
   "outputs": [],
   "source": [
    "rhs_ineq = [-20, # right side of first constraint\n",
    "... -15] # right side of Second constraint"
   ]
  },
  {
   "cell_type": "code",
   "execution_count": 5,
   "metadata": {
    "id": "qV3HD-FImI5E"
   },
   "outputs": [],
   "source": [
    "bnd = [(0, float(\"inf\")), # Bounds of x1\n",
    "... (0, float(\"inf\"))] # Bounds of x2"
   ]
  },
  {
   "cell_type": "code",
   "execution_count": 6,
   "metadata": {
    "colab": {
     "base_uri": "https://localhost:8080/"
    },
    "id": "OxAJErjamMqW",
    "outputId": "ac8df063-e96f-462a-f9d3-a049f27bd91e"
   },
   "outputs": [],
   "source": [
    "opt = linprog(c=obj, A_ub=lhs_ineq, b_ub=rhs_ineq,\n",
    "... bounds=bnd,method=\"interior-point\")"
   ]
  },
  {
   "cell_type": "code",
   "execution_count": 8,
   "metadata": {
    "colab": {
     "base_uri": "https://localhost:8080/"
    },
    "id": "9A3kr-QBmOjK",
    "outputId": "df3b08f6-ce8f-479f-b814-f1776434950a"
   },
   "outputs": [
    {
     "data": {
      "text/plain": [
       "     con: array([], dtype=float64)\n",
       "     fun: 5.0000000002364455\n",
       " message: 'Optimization terminated successfully.'\n",
       "     nit: 5\n",
       "   slack: array([1.64270375e-10, 1.00000000e+01])\n",
       "  status: 0\n",
       " success: True\n",
       "       x: array([6.01160437e-11, 5.00000000e+00])"
      ]
     },
     "execution_count": 8,
     "metadata": {},
     "output_type": "execute_result"
    }
   ],
   "source": [
    "opt"
   ]
  },
  {
   "cell_type": "code",
   "execution_count": null,
   "metadata": {},
   "outputs": [],
   "source": []
  }
 ],
 "metadata": {
  "colab": {
   "authorship_tag": "ABX9TyOJ+qQOavsly+4rvgbHpdyE",
   "name": "BigM.ipynb",
   "provenance": []
  },
  "kernelspec": {
   "display_name": "Python 3",
   "language": "python",
   "name": "python3"
  },
  "language_info": {
   "codemirror_mode": {
    "name": "ipython",
    "version": 3
   },
   "file_extension": ".py",
   "mimetype": "text/x-python",
   "name": "python",
   "nbconvert_exporter": "python",
   "pygments_lexer": "ipython3",
   "version": "3.8.3"
  }
 },
 "nbformat": 4,
 "nbformat_minor": 1
}
