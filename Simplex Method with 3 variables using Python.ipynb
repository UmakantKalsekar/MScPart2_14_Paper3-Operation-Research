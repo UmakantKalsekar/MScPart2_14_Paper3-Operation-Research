{
 "cells": [
  {
   "cell_type": "markdown",
   "metadata": {},
   "source": [
    "# Simplex Method with 3 variables using Python"
   ]
  },
  {
   "cell_type": "code",
   "execution_count": 1,
   "metadata": {
    "id": "UfoFx0Xejfiz"
   },
   "outputs": [],
   "source": [
    "from scipy.optimize import linprog\n",
    "#Min z= x1-3x2+2x3\n",
    "#subject to\n",
    "#3x1-x2+3x3<=7\n",
    "#-2x1+4x2<=12\n",
    "#-4x1+3x2+8x3<=10\n",
    "#x1,x2,x3>=0"
   ]
  },
  {
   "cell_type": "code",
   "execution_count": 2,
   "metadata": {
    "id": "bFCSDtqtkBio"
   },
   "outputs": [],
   "source": [
    "obj = [1, -3, 2]"
   ]
  },
  {
   "cell_type": "code",
   "execution_count": 3,
   "metadata": {
    "id": "UI6lsOJnkZLw"
   },
   "outputs": [],
   "source": [
    "lhs_ineq = [[ 3, -1, 3], # Red constraint left side\n",
    "... [-2, 4, 0], # Blue constraint left side\n",
    "... [ -4, 3, 8]] # Yellow constraint left side"
   ]
  },
  {
   "cell_type": "code",
   "execution_count": 5,
   "metadata": {
    "id": "pa92vr2PkIFO"
   },
   "outputs": [],
   "source": [
    "rhs_ineq = [7,  # Red constraint right side\n",
    "...             12,  # Blue constraint right side\n",
    "...              10]  # Yellow constraint right side"
   ]
  },
  {
   "cell_type": "code",
   "execution_count": 6,
   "metadata": {
    "id": "pjXL1uyWkKqT"
   },
   "outputs": [],
   "source": [
    "bnd = [(0, float(\"inf\")), # Bounds of x\n",
    "... (0, float(\"inf\")),\n",
    "... (0, float(\"inf\"))] # Bounds of y"
   ]
  },
  {
   "cell_type": "code",
   "execution_count": 7,
   "metadata": {
    "id": "0UE-fMn7kNyb"
   },
   "outputs": [],
   "source": [
    "opt = linprog(c=obj, A_ub=lhs_ineq, b_ub=rhs_ineq,\n",
    "... bounds=bnd,\n",
    "... method=\"revised simplex\")"
   ]
  },
  {
   "cell_type": "code",
   "execution_count": 8,
   "metadata": {
    "colab": {
     "base_uri": "https://localhost:8080/"
    },
    "id": "DZRaJqj3kO_e",
    "outputId": "d822b821-d226-4213-c8c2-14cb25859555"
   },
   "outputs": [
    {
     "data": {
      "text/plain": [
       "     con: array([], dtype=float64)\n",
       "     fun: -11.0\n",
       " message: 'Optimization terminated successfully.'\n",
       "     nit: 2\n",
       "   slack: array([ 0.,  0., 11.])\n",
       "  status: 0\n",
       " success: True\n",
       "       x: array([4., 5., 0.])"
      ]
     },
     "execution_count": 8,
     "metadata": {},
     "output_type": "execute_result"
    }
   ],
   "source": [
    "opt"
   ]
  }
 ],
 "metadata": {
  "colab": {
   "authorship_tag": "ABX9TyP0xDS4Th/uR62GlnfGpYsk",
   "name": "simplex3var.ipynb",
   "provenance": []
  },
  "kernelspec": {
   "display_name": "Python 3",
   "language": "python",
   "name": "python3"
  },
  "language_info": {
   "codemirror_mode": {
    "name": "ipython",
    "version": 3
   },
   "file_extension": ".py",
   "mimetype": "text/x-python",
   "name": "python",
   "nbconvert_exporter": "python",
   "pygments_lexer": "ipython3",
   "version": "3.8.3"
  }
 },
 "nbformat": 4,
 "nbformat_minor": 1
}
